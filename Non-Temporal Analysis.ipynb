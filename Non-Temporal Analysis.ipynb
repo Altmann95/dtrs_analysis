{
 "cells": [
  {
   "cell_type": "code",
   "execution_count": 1,
   "metadata": {},
   "outputs": [],
   "source": [
    "import sys\n",
    "import re\n",
    "import glob\n",
    "import spacy\n",
    "import pandas as pd\n",
    "import matplotlib.pyplot as plt\n",
    "import seaborn as sns\n",
    "import numpy as np\n",
    "from IPython.display import Markdown, display\n",
    "from liwc import Liwc\n",
    "from spacy.lemmatizer import Lemmatizer\n",
    "from spacy.lookups import Lookups"
   ]
  },
  {
   "cell_type": "code",
   "execution_count": 2,
   "metadata": {},
   "outputs": [],
   "source": [
    "nlp = spacy.load(\"en_core_web_sm\")\n",
    "def printmd(string):\n",
    "    display(Markdown(string))"
   ]
  },
  {
   "cell_type": "code",
   "execution_count": 3,
   "metadata": {},
   "outputs": [
    {
     "name": "stdout",
     "output_type": "stream",
     "text": [
      "Read 65 files and loaded 20902 rows into the dataframe.\n"
     ]
    }
   ],
   "source": [
    "files = glob.glob('./output/*.txt')\n",
    "\n",
    "df_list = []\n",
    "\n",
    "for filename in files:\n",
    "    df_file = pd.read_csv(filename, sep=';')\n",
    "    df_list.append(df_file)\n",
    "\n",
    "df = pd.concat(df_list, axis=0, ignore_index=True)\n",
    "print(\"Read\", len(files), \"files and loaded\", df.shape[0], \"rows into the dataframe.\")"
   ]
  },
  {
   "cell_type": "code",
   "execution_count": 4,
   "metadata": {},
   "outputs": [],
   "source": [
    "hypothetical_indicators = [\"would\", \"could\", \"can\", \"might\", \"may\", \"if\", \"then\", \"unless\"]\n",
    "\n",
    "\n",
    "def make_regex(lex_list):\n",
    "    separator = '\\\\b|\\\\b'\n",
    "    reg_string = separator.join(lex_list)\n",
    "    reg_string_whole_word = \"\\\\b\" + reg_string + \"\\\\b\"\n",
    "    return reg_string_whole_word\n",
    "\n",
    "def count_lexicon_terms(sentence, lexicon):\n",
    "    reg_str = make_regex(lexicon)\n",
    "    num_matches = len(list(re.finditer(reg_str, sentence)))\n",
    "    return num_matches\n",
    "    "
   ]
  },
  {
   "cell_type": "code",
   "execution_count": 5,
   "metadata": {},
   "outputs": [],
   "source": [
    "def match_lexicon_terms(sentence, lexicon):\n",
    "    reg_str = make_regex(lexicon)\n",
    "    reg_matches = re.findall(reg_str, sentence.lower())\n",
    "    reg_split = re.split(reg_str, sentence.lower())\n",
    "    ind = 0\n",
    "    matched_print = \"\"\n",
    "    for split_string in reg_split:\n",
    "        if ind == len(reg_matches) :\n",
    "            str_to_concat = split_string\n",
    "        else :\n",
    "            str_to_concat = split_string + '**' + reg_matches[ind] + '**'\n",
    "            ind += 1\n",
    "        matched_print += str_to_concat\n",
    "    return matched_print\n",
    "    \n",
    "def print_lines(df, dataset, session, lexicon, start, num_lines=10):\n",
    "    df1 = df[df['dataset'] == dataset]\n",
    "    df2 = df1[df1['session'] == session]\n",
    "    speakers_list = list(df2['speaker'])\n",
    "    utt = list(df2['utterance'])\n",
    "    end = start + num_lines\n",
    "    for ind, line in enumerate(utt[start:end]) :\n",
    "        index = ind + start\n",
    "        line_matched = match_lexicon_terms(line, lexicon)\n",
    "        print(str(index)+' : ', end='')\n",
    "        print(speakers_list[index])\n",
    "        printmd(line_matched)\n",
    "        print('----------')"
   ]
  },
  {
   "cell_type": "code",
   "execution_count": 6,
   "metadata": {},
   "outputs": [],
   "source": [
    "def add_count(df, lex_category_name, lex_category_list, normalize_measure=False):\n",
    "    if lex_category_name in df.columns :\n",
    "        print(\"Column already exists for\", lex_category_name, \". Repopulating...\")\n",
    "        df = df.drop(lex_category_name, axis=1)\n",
    "    column_index = len(df.columns)\n",
    "    category_measures = []\n",
    "    for ind, utterance in enumerate(list(df['utterance'])) :\n",
    "        if utterance != '' and utterance != ' ' :\n",
    "            category_measure = count_lexicon_terms(utterance, lex_category_list)\n",
    "            category_measures.append(category_measure)\n",
    "    df.insert(column_index, lex_category_name, category_measures, True)\n",
    "    return df"
   ]
  },
  {
   "cell_type": "code",
   "execution_count": 7,
   "metadata": {},
   "outputs": [],
   "source": [
    "df = add_count(df, 'hypotheticals', hypothetical_indicators)"
   ]
  },
  {
   "cell_type": "code",
   "execution_count": 8,
   "metadata": {},
   "outputs": [
    {
     "data": {
      "text/html": [
       "<div>\n",
       "<style scoped>\n",
       "    .dataframe tbody tr th:only-of-type {\n",
       "        vertical-align: middle;\n",
       "    }\n",
       "\n",
       "    .dataframe tbody tr th {\n",
       "        vertical-align: top;\n",
       "    }\n",
       "\n",
       "    .dataframe thead th {\n",
       "        text-align: right;\n",
       "    }\n",
       "</style>\n",
       "<table border=\"1\" class=\"dataframe\">\n",
       "  <thead>\n",
       "    <tr style=\"text-align: right;\">\n",
       "      <th></th>\n",
       "      <th>dataset</th>\n",
       "      <th>session</th>\n",
       "      <th>speaker</th>\n",
       "      <th>utterance</th>\n",
       "      <th>hypotheticals</th>\n",
       "    </tr>\n",
       "  </thead>\n",
       "  <tbody>\n",
       "    <tr>\n",
       "      <th>10</th>\n",
       "      <td>dtrs-10</td>\n",
       "      <td>grad-2-concept-review-sharon</td>\n",
       "      <td>Steve</td>\n",
       "      <td>Yeah.  I like the storyboard.  Are the numbers...</td>\n",
       "      <td>0</td>\n",
       "    </tr>\n",
       "    <tr>\n",
       "      <th>11</th>\n",
       "      <td>dtrs-10</td>\n",
       "      <td>grad-2-concept-review-sharon</td>\n",
       "      <td>Wilson</td>\n",
       "      <td>Uh.  I think that it’s not that easy.</td>\n",
       "      <td>0</td>\n",
       "    </tr>\n",
       "    <tr>\n",
       "      <th>12</th>\n",
       "      <td>dtrs-10</td>\n",
       "      <td>grad-2-concept-review-sharon</td>\n",
       "      <td>Steve</td>\n",
       "      <td>To me they are a little bit bold. They I think...</td>\n",
       "      <td>6</td>\n",
       "    </tr>\n",
       "    <tr>\n",
       "      <th>13</th>\n",
       "      <td>dtrs-10</td>\n",
       "      <td>grad-2-concept-review-sharon</td>\n",
       "      <td>Wilson</td>\n",
       "      <td>What is this stuff?</td>\n",
       "      <td>0</td>\n",
       "    </tr>\n",
       "    <tr>\n",
       "      <th>14</th>\n",
       "      <td>dtrs-10</td>\n",
       "      <td>grad-2-concept-review-sharon</td>\n",
       "      <td>Steve</td>\n",
       "      <td>Yeah, what is that dot there for?</td>\n",
       "      <td>0</td>\n",
       "    </tr>\n",
       "    <tr>\n",
       "      <th>15</th>\n",
       "      <td>dtrs-10</td>\n",
       "      <td>grad-2-concept-review-sharon</td>\n",
       "      <td>Sharon</td>\n",
       "      <td>Just a dot.</td>\n",
       "      <td>0</td>\n",
       "    </tr>\n",
       "    <tr>\n",
       "      <th>16</th>\n",
       "      <td>dtrs-10</td>\n",
       "      <td>grad-2-concept-review-sharon</td>\n",
       "      <td>Steve</td>\n",
       "      <td>I’d get rid of the dot.  [Laughter] It looks l...</td>\n",
       "      <td>0</td>\n",
       "    </tr>\n",
       "    <tr>\n",
       "      <th>17</th>\n",
       "      <td>dtrs-10</td>\n",
       "      <td>grad-2-concept-review-sharon</td>\n",
       "      <td>Marlen</td>\n",
       "      <td>It’s like an inverted “I”. [0:04:00]</td>\n",
       "      <td>0</td>\n",
       "    </tr>\n",
       "    <tr>\n",
       "      <th>18</th>\n",
       "      <td>dtrs-10</td>\n",
       "      <td>grad-2-concept-review-sharon</td>\n",
       "      <td>Steve</td>\n",
       "      <td>Yeah.  Tell me about conception.  What does th...</td>\n",
       "      <td>0</td>\n",
       "    </tr>\n",
       "    <tr>\n",
       "      <th>19</th>\n",
       "      <td>dtrs-10</td>\n",
       "      <td>grad-2-concept-review-sharon</td>\n",
       "      <td>Sharon</td>\n",
       "      <td>What?</td>\n",
       "      <td>0</td>\n",
       "    </tr>\n",
       "  </tbody>\n",
       "</table>\n",
       "</div>"
      ],
      "text/plain": [
       "    dataset                       session speaker  \\\n",
       "10  dtrs-10  grad-2-concept-review-sharon   Steve   \n",
       "11  dtrs-10  grad-2-concept-review-sharon  Wilson   \n",
       "12  dtrs-10  grad-2-concept-review-sharon   Steve   \n",
       "13  dtrs-10  grad-2-concept-review-sharon  Wilson   \n",
       "14  dtrs-10  grad-2-concept-review-sharon   Steve   \n",
       "15  dtrs-10  grad-2-concept-review-sharon  Sharon   \n",
       "16  dtrs-10  grad-2-concept-review-sharon   Steve   \n",
       "17  dtrs-10  grad-2-concept-review-sharon  Marlen   \n",
       "18  dtrs-10  grad-2-concept-review-sharon   Steve   \n",
       "19  dtrs-10  grad-2-concept-review-sharon  Sharon   \n",
       "\n",
       "                                            utterance  hypotheticals  \n",
       "10  Yeah.  I like the storyboard.  Are the numbers...              0  \n",
       "11              Uh.  I think that it’s not that easy.              0  \n",
       "12  To me they are a little bit bold. They I think...              6  \n",
       "13                                What is this stuff?              0  \n",
       "14                  Yeah, what is that dot there for?              0  \n",
       "15                                        Just a dot.              0  \n",
       "16  I’d get rid of the dot.  [Laughter] It looks l...              0  \n",
       "17               It’s like an inverted “I”. [0:04:00]              0  \n",
       "18  Yeah.  Tell me about conception.  What does th...              0  \n",
       "19                                              What?              0  "
      ]
     },
     "execution_count": 8,
     "metadata": {},
     "output_type": "execute_result"
    }
   ],
   "source": [
    "df[10:20]"
   ]
  },
  {
   "cell_type": "code",
   "execution_count": 22,
   "metadata": {},
   "outputs": [
    {
     "data": {
      "text/html": [
       "<div>\n",
       "<style scoped>\n",
       "    .dataframe tbody tr th:only-of-type {\n",
       "        vertical-align: middle;\n",
       "    }\n",
       "\n",
       "    .dataframe tbody tr th {\n",
       "        vertical-align: top;\n",
       "    }\n",
       "\n",
       "    .dataframe thead th {\n",
       "        text-align: right;\n",
       "    }\n",
       "</style>\n",
       "<table border=\"1\" class=\"dataframe\">\n",
       "  <thead>\n",
       "    <tr style=\"text-align: right;\">\n",
       "      <th></th>\n",
       "      <th>dataset</th>\n",
       "      <th>category_lines</th>\n",
       "      <th>non_category_lines</th>\n",
       "      <th>total</th>\n",
       "    </tr>\n",
       "  </thead>\n",
       "  <tbody>\n",
       "    <tr>\n",
       "      <th>0</th>\n",
       "      <td>dtrs-11</td>\n",
       "      <td>2149</td>\n",
       "      <td>6258</td>\n",
       "      <td>8407</td>\n",
       "    </tr>\n",
       "    <tr>\n",
       "      <th>1</th>\n",
       "      <td>dtrs-07</td>\n",
       "      <td>1276</td>\n",
       "      <td>3457</td>\n",
       "      <td>4733</td>\n",
       "    </tr>\n",
       "    <tr>\n",
       "      <th>2</th>\n",
       "      <td>dtrs-10</td>\n",
       "      <td>1275</td>\n",
       "      <td>3901</td>\n",
       "      <td>5176</td>\n",
       "    </tr>\n",
       "    <tr>\n",
       "      <th>3</th>\n",
       "      <td>dtrs-02</td>\n",
       "      <td>569</td>\n",
       "      <td>2017</td>\n",
       "      <td>2586</td>\n",
       "    </tr>\n",
       "  </tbody>\n",
       "</table>\n",
       "</div>"
      ],
      "text/plain": [
       "   dataset category_lines non_category_lines total\n",
       "0  dtrs-11           2149               6258  8407\n",
       "1  dtrs-07           1276               3457  4733\n",
       "2  dtrs-10           1275               3901  5176\n",
       "3  dtrs-02            569               2017  2586"
      ]
     },
     "execution_count": 22,
     "metadata": {},
     "output_type": "execute_result"
    }
   ],
   "source": [
    "df_counts = pd.DataFrame(columns = ['dataset', 'category_lines', 'non_category_lines', 'total'])\n",
    "dataset_list = list(set(list(df['dataset'])))\n",
    "for dataset in dataset_list :\n",
    "    df1 = df[df['dataset'] == dataset]\n",
    "    category_column = df1['hypotheticals']\n",
    "    non_category_count = sum(category_count == 0 for category_count in category_column)\n",
    "    category_count = len(category_column) - non_category_count\n",
    "    df_counts = df_counts.append({'dataset': dataset,\n",
    "                      'category_lines' : category_count,\n",
    "                      'non_category_lines' : non_category_count,\n",
    "                      'total' : len(category_column)},\n",
    "                     ignore_index=True)\n",
    "\n",
    "df_counts"
   ]
  },
  {
   "cell_type": "code",
   "execution_count": 27,
   "metadata": {},
   "outputs": [
    {
     "data": {
      "image/png": "[encoded data removed]",
      "text/plain": [
       "<Figure size 432x288 with 1 Axes>"
      ]
     },
     "metadata": {
      "needs_background": "light"
     },
     "output_type": "display_data"
    }
   ],
   "source": [
    "bars = sns.barplot(x = 'total', y = 'dataset', color = \"lightgrey\", data = df_counts)"
   ]
  },
  {
   "cell_type": "code",
   "execution_count": 29,
   "metadata": {},
   "outputs": [
    {
     "data": {
      "text/plain": [
       "<matplotlib.axes._subplots.AxesSubplot at 0x1236bf460>"
      ]
     },
     "execution_count": 29,
     "metadata": {},
     "output_type": "execute_result"
    },
    {
     "data": {
      "image/png": "[encoded data removed]",
      "text/plain": [
       "<Figure size 432x288 with 1 Axes>"
      ]
     },
     "metadata": {
      "needs_background": "light"
     },
     "output_type": "display_data"
    }
   ],
   "source": [
    "sns.barplot(x = 'category_lines', y = 'dataset', color = \"blue\", data = df_counts)"
   ]
  },
  {
   "cell_type": "code",
   "execution_count": null,
   "metadata": {},
   "outputs": [],
   "source": []
  }
 ],
 "metadata": {
  "kernelspec": {
   "display_name": "Python 3",
   "language": "python",
   "name": "python3"
  },
  "language_info": {
   "codemirror_mode": {
    "name": "ipython",
    "version": 3
   },
   "file_extension": ".py",
   "mimetype": "text/x-python",
   "name": "python",
   "nbconvert_exporter": "python",
   "pygments_lexer": "ipython3",
   "version": "3.8.5"
  }
 },
 "nbformat": 4,
 "nbformat_minor": 4
}
